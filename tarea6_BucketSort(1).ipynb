{
  "nbformat": 4,
  "nbformat_minor": 0,
  "metadata": {
    "colab": {
      "provenance": []
    },
    "kernelspec": {
      "name": "python3",
      "display_name": "Python 3"
    },
    "language_info": {
      "name": "python"
    }
  },
  "cells": [
    {
      "cell_type": "code",
      "metadata": {
        "id": "xW4NI2Cc1Tu4"
      },
      "source": [
        "def bucket_sort(input_list):\n",
        "    max_value = max(input_list) # Encuentra el valor máximo en la lista y usa la longitud de la lista para determinar qué valor de la lista va en qué cubeta\n",
        "    tamaño = max_value/len(input_list) # Crea n cubetas vacías donde n es igual a la longitud de la lista de entrada\n",
        "    cubetas_list= []\n",
        "\n",
        "    for x in range(len(input_list)):\n",
        "        cubetas_list.append([]) \n",
        "\n",
        "    for i in range(len(input_list)): # Coloca los elementos de la lista en diferentes cubetas según el tamaño\n",
        "        j = int (input_list[i] / tamaño)\n",
        "        if j != len (input_list):\n",
        "            cubetas_list[j].append(input_list[i])\n",
        "        else:\n",
        "            cubetas_list[len(input_list) - 1].append(input_list[i])\n",
        "\n",
        "    for z in range(len(input_list)): # Ordena elementos dentro de las cubetas usando inserción\n",
        "        insercion(cubetas_list[z])\n",
        "         # Concatena cubetas con elementos ordenados en una sola lista\n",
        "\n",
        "    final = []\n",
        "    for x in range(len (input_list)):\n",
        "        final = final + cubetas_list[x]\n",
        "    return final   \n"
      ],
      "execution_count": 23,
      "outputs": []
    },
    {
      "cell_type": "code",
      "source": [
        "def insercion(cubeta):\n",
        "    for i in range (1, len (cubeta)):\n",
        "        val = cubeta[i]\n",
        "        j = i - 1\n",
        "        while (j >= 0 and val < cubeta[j]):\n",
        "            cubeta[j + 1] = cubeta[j]\n",
        "            j = j - 1\n",
        "        cubeta[j + 1] = val\n"
      ],
      "metadata": {
        "id": "8hwStJlYZG4U"
      },
      "execution_count": 21,
      "outputs": []
    },
    {
      "cell_type": "code",
      "source": [
        "def main():\n",
        "    input_list = [1.20, 0.22, 0.43, 0.36,0.39,0.27]\n",
        "    print('ORIGINAL LIST:')\n",
        "    print(input_list)\n",
        "    ordenar_list = bucket_sort(input_list)\n",
        "    print('SORTED LIST:')\n",
        "    print(ordenar_list)"
      ],
      "metadata": {
        "id": "5rfBRQQiZLQT"
      },
      "execution_count": 22,
      "outputs": []
    }
  ]
}