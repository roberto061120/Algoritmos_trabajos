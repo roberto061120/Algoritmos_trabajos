{
  "nbformat": 4,
  "nbformat_minor": 0,
  "metadata": {
    "colab": {
      "provenance": []
    },
    "kernelspec": {
      "name": "python3",
      "display_name": "Python 3"
    },
    "language_info": {
      "name": "python"
    }
  },
  "cells": [
    {
      "cell_type": "code",
      "execution_count": null,
      "metadata": {
        "id": "b07Ub8aSYKf5"
      },
      "outputs": [],
      "source": [
        "from collections import Counter\n",
        "\n",
        "def caracteres_comunes(cadena_1, cadena_2):\n",
        "    cont_1 = Counter(cadena_1)\n",
        "    cont_2 = Counter(cadena_2)\n",
        "\n",
        "    comunes = cont_1 & cont_2\n",
        "\n",
        "    if len(comunes) == 0:\n",
        "        return None\n",
        "    \n",
        "    comunes = list(comunes.elements())\n",
        "    comunes = sorted(comunes)\n",
        "\n",
        "    return comunes\n",
        "\n",
        "texto_1 = '1110010001101110100011001111000110001110001110001110100011010001110001110001110001110001110001110001110001110001110001110001110001110001110001110001110001110001110001110001110001110001110001110001110001110001110001110001110001110001110001110001110001110001101000111110101010100111100011000'\n",
        "texto_2 = '1010101'\n",
        "print(caracteres_comunes(texto_1, texto_2))"
      ]
    }
  ]
}