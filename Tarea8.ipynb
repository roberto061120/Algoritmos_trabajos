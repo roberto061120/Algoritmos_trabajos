{
  "nbformat": 4,
  "nbformat_minor": 0,
  "metadata": {
    "colab": {
      "provenance": []
    },
    "kernelspec": {
      "name": "python3",
      "display_name": "Python 3"
    },
    "language_info": {
      "name": "python"
    }
  },
  "cells": [
    {
      "cell_type": "code",
      "execution_count": null,
      "metadata": {
        "id": "3CycMuLFTjTm"
      },
      "outputs": [],
      "source": [
        "abecedario = \"ABCDEFGHIJKLMNÑOPQRSTUVWXYZ\"\n",
        "\n",
        "cifrado = \"Si Cupdmzaplil Uikpwuis Icbwuwti lm Tmfpkw oi lmamtxmvilw cu xixms xzwbiñwupkw mu si opabwzpi g mu si nwztikpwu lm ucmabzw xipa. Sia bizmia acabiubpdia lm mabi puabpbckpwu xcjspki, icbwuwti g sipki awu si lwkmukpi, si pudmabpñikpwu g si lpncapwu lm si kcsbczi. Mu ms tculw ikilmtpkw ma zmkwuwkpli kwtw cui cupdmzaplil lm mfkmsmukpi. Si CUIT zmaxwulm is xzmamubm g tpzi ms ncbczw kwtw ms xzwgmkbw kcsbczis tia ptxwzbiubm lm Tmfpkw. Si CUIT ma cu maxikpw lm spjmzbilma. Mu mssi am xzikbpki kwbplpiuitmubm ms zmaxmbw, si bwsmziukpi g ms lpiswñw. Si xsczisplil lm plmia g lm xmuaitpmubw ma ixzmkpili kwtw apñuw lm ac zpycmhi g ucuki kwtw nikbwz lm lmjpsplil.Si CUIT ma cu maxikpw lm spjmzbilma. Mu mssi am xzikbpki kwbplpiuitmubm ms zmaxmbw, si bwsmziukpi g ms lpiswñw. Si xsczisplil lm plmia g lm xmuaitpmubw ma ixzmkpili kwtw apñuw lm ac zpycmhi g ucuki kwtw nikbwz lm lmjpsplil.\"\n",
        "\n",
        "for final in range(1, len(abecedario)):\n",
        "  mensaje = \"\"\n",
        "\n",
        "  for letra in cifrado.upper():\n",
        "      if letra in abecedario:\n",
        "          indice = abecedario.find(letra)\n",
        "          indice -= final\n",
        "\n",
        "          if indice < 0:\n",
        "              indice += 27\n",
        "          mensaje += abecedario[indice]\n",
        "      else:\n",
        "          mensaje += letra\n",
        "  print(f\"Clave: {final} - {mensaje}\")"
      ]
    }
  ]
}