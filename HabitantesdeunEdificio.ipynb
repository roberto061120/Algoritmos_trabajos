{
  "nbformat": 4,
  "nbformat_minor": 0,
  "metadata": {
    "colab": {
      "name": "HabitantesdeunEdificio.ipynb",
      "provenance": []
    },
    "kernelspec": {
      "name": "python3",
      "display_name": "Python 3"
    },
    "language_info": {
      "name": "python"
    }
  },
  "cells": [
    {
      "cell_type": "code",
      "source": [
        "print(\"¿Qué puerta tendrá más personas?\")\n",
        "puertaA= int(input(\"Ingrese el número de habitantes de la puerta A : \"))#input lo convierte a String y por eso está encerrado en un int\n",
        "puertaB= int(input(\"Ingrese el número de habitantes de la puerta B : \"))\n",
        "puertaC= int(input(\"Ingrese el número de habitantes de la puerta C : \"))\n",
        "puertaD= int(input(\"Ingrese el número de habitantes de la puerta D : \"))"
      ],
      "metadata": {
        "colab": {
          "base_uri": "https://localhost:8080/"
        },
        "id": "5kmnkeIUfkxz",
        "outputId": "c729e113-4938-49a1-fb9a-9bf354109521"
      },
      "execution_count": 38,
      "outputs": [
        {
          "name": "stdout",
          "output_type": "stream",
          "text": [
            "¿Qué puerta tendrá más personas?\n",
            "Ingrese el número de habitantes de la puerta A : 41\n",
            "Ingrese el número de habitantes de la puerta B : 2\n",
            "Ingrese el número de habitantes de la puerta C : 3\n",
            "Ingrese el número de habitantes de la puerta D : 14\n"
          ]
        }
      ]
    },
    {
      "cell_type": "code",
      "source": [
        "lista=[puertaA, puertaB, puertaC, puertaD]\n",
        "alto=lista[0]\n",
        "\n",
        "for i in range(0, len(lista)):\n",
        "    if lista[i]>alto:\n",
        "       alto=lista[i]\n",
        "print(\"El número mayor es: \", alto)\n",
        "print(\"la puerta con más habitantes es: \", lista.index(alto))\n",
        "\n",
        "print(\"PuertaA=0\")\n",
        "print(\"PuertaB=1\")\n",
        "print(\"PuertaC=2\")\n",
        "print(\"PuertaD=3\")"
      ],
      "metadata": {
        "id": "dUYlPAjcf6U6"
      },
      "execution_count": null,
      "outputs": []
    }
  ]
}