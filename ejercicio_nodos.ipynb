{
  "nbformat": 4,
  "nbformat_minor": 0,
  "metadata": {
    "colab": {
      "name": "ejercicio_nodos.ipynb",
      "provenance": [],
      "collapsed_sections": []
    },
    "kernelspec": {
      "name": "python3",
      "display_name": "Python 3"
    },
    "language_info": {
      "name": "python"
    }
  },
  "cells": [
    {
      "cell_type": "code",
      "execution_count": 1,
      "metadata": {
        "id": "Y7mglgV7MN8E"
      },
      "outputs": [],
      "source": [
        "class Nodo:\n",
        "    def __init__( self, value, siguiente= None ):\n",
        "        self.data = value\n",
        "        self.next = siguiente"
      ]
    },
    {
      "cell_type": "code",
      "source": [
        "head = Nodo(99) #para el nodo 99\n",
        "print( head.data )"
      ],
      "metadata": {
        "colab": {
          "base_uri": "https://localhost:8080/"
        },
        "id": "rxKHIZoIMkNL",
        "outputId": "6b8869d0-3504-4edc-c469-b4dc5ebfd5c1"
      },
      "execution_count": 2,
      "outputs": [
        {
          "output_type": "stream",
          "name": "stdout",
          "text": [
            "99\n"
          ]
        }
      ]
    },
    {
      "cell_type": "code",
      "source": [
        "head = Nodo(57) #para el nodo 57\n",
        "print( head.data )"
      ],
      "metadata": {
        "colab": {
          "base_uri": "https://localhost:8080/"
        },
        "id": "uIVrizPaNFf0",
        "outputId": "d7e3f2c2-e2fb-4cfb-f899-22ffca06d51d"
      },
      "execution_count": 3,
      "outputs": [
        {
          "output_type": "stream",
          "name": "stdout",
          "text": [
            "57\n"
          ]
        }
      ]
    },
    {
      "cell_type": "code",
      "source": [
        "head = Nodo(20)\n",
        "head.next = Nodo(23)\n",
        "head.next.next = Nodo(19)\n",
        "head.next.next.next = Nodo(57)\n",
        "head.next.next.next.next = Nodo(67)\n",
        "head.next.next.next.next.next= Nodo(99)\n",
        "print(head.data)\n",
        "print(head.next.data)\n",
        "print(head.next.next.data)\n",
        "print(head.next.next.next.data)\n",
        "print(head.next.next.next.next.data)\n",
        "print(head.next.next.next.next.next.data)"
      ],
      "metadata": {
        "colab": {
          "base_uri": "https://localhost:8080/"
        },
        "id": "oICgSlzUT5s1",
        "outputId": "2b53c891-6398-419a-e01c-a7956851baeb"
      },
      "execution_count": 12,
      "outputs": [
        {
          "output_type": "stream",
          "name": "stdout",
          "text": [
            "20\n",
            "23\n",
            "19\n",
            "57\n",
            "67\n",
            "99\n"
          ]
        }
      ]
    }
  ]
}