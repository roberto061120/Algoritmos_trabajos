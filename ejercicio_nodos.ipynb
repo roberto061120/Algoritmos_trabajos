{
  "nbformat": 4,
  "nbformat_minor": 0,
  "metadata": {
    "colab": {
      "name": "ejercicio_nodos.ipynb",
      "provenance": [],
      "collapsed_sections": []
    },
    "kernelspec": {
      "name": "python3",
      "display_name": "Python 3"
    },
    "language_info": {
      "name": "python"
    }
  },
  "cells": [
    {
      "cell_type": "code",
      "execution_count": 9,
      "metadata": {
        "id": "Y7mglgV7MN8E"
      },
      "outputs": [],
      "source": [
        "class Nodo:\n",
        "    def __init__( self, value ):\n",
        "        self.data = value"
      ]
    },
    {
      "cell_type": "code",
      "source": [
        "head = Nodo(99) #para el nodo 99\n",
        "print( head.data )"
      ],
      "metadata": {
        "colab": {
          "base_uri": "https://localhost:8080/"
        },
        "id": "rxKHIZoIMkNL",
        "outputId": "1819d441-4a50-46f7-cf5c-9ce0ee704979"
      },
      "execution_count": 11,
      "outputs": [
        {
          "output_type": "stream",
          "name": "stdout",
          "text": [
            "99\n"
          ]
        }
      ]
    },
    {
      "cell_type": "code",
      "source": [
        "head = Nodo(57) #para el nodo 57\n",
        "print( head.data )"
      ],
      "metadata": {
        "colab": {
          "base_uri": "https://localhost:8080/"
        },
        "id": "uIVrizPaNFf0",
        "outputId": "0818de9c-286b-4764-c9ef-25aa05fb8f7a"
      },
      "execution_count": 12,
      "outputs": [
        {
          "output_type": "stream",
          "name": "stdout",
          "text": [
            "57\n"
          ]
        }
      ]
    }
  ]
}